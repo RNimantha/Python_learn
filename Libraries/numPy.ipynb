{
 "cells": [
  {
   "cell_type": "code",
   "execution_count": 2,
   "id": "8f3bce65-5835-4462-a018-c64744a8b55c",
   "metadata": {},
   "outputs": [
    {
     "name": "stdout",
     "output_type": "stream",
     "text": [
      "Requirement already satisfied: numpy in c:\\users\\firehouse technology\\appdata\\local\\programs\\python\\python312\\lib\\site-packages (1.26.3)\n",
      "Note: you may need to restart the kernel to use updated packages.\n"
     ]
    }
   ],
   "source": [
    "pip install numpy"
   ]
  },
  {
   "cell_type": "markdown",
   "id": "59ae1802",
   "metadata": {},
   "source": [
    "## Working with Numpy\n",
    "\n",
    "### Why Use NumPy?\n",
    "* In Python we have lists that serve the purpose of arrays, but they are slow to process.\n",
    "\n",
    "* NumPy aims to provide an array object that is up to 50x faster than traditional Python lists.\n",
    "\n",
    "* The array object in NumPy is called ndarray, it provides a lot of supporting functions that make working with ndarray very easy.\n",
    "\n",
    "* Arrays are very frequently used in data science, where speed and resources are very important\n",
    "\n",
    "### Why is NumPy Faster Than Lists?\n",
    "* NumPy arrays are stored at one continuous place in memory unlike lists, so processes can access and manipulate them very efficiently.\n",
    "\n",
    "* This behavior is called locality of reference in computer science.\n",
    "\n",
    "* This is the main reason why NumPy is faster than lists. Also it is optimized to work with latest CPU architectures."
   ]
  },
  {
   "cell_type": "code",
   "execution_count": 1,
   "id": "4269d9f9-59be-4581-9f59-dac47720e4fd",
   "metadata": {},
   "outputs": [
    {
     "name": "stdout",
     "output_type": "stream",
     "text": [
      "1.26.3\n"
     ]
    }
   ],
   "source": [
    "import numpy as np\n",
    "\n",
    "# check version\n",
    "print(np.__version__)"
   ]
  },
  {
   "cell_type": "markdown",
   "id": "2252574c",
   "metadata": {},
   "source": [
    "#### Arrays\n",
    "\n",
    "1. 0-D Arrays\n",
    "    * 0-D arrays, or Scalars, are the elements in an array. Each value in an array is a 0-D array.\n",
    "2. 1-D Arrays\n",
    "   * An array that has 0-D arrays as its elements is called uni-dimensional or 1-D array.\n",
    "\n",
    "    * These are the most common and basic arrays.\n",
    "3. 2-D Arrays\n",
    "    * An array that has 1-D arrays as its elements is called a 2-D array.\n",
    "\n",
    "    * These are often used to represent matrix or 2nd order tensors.\n",
    "4. 3-D arrays\n",
    "    * An array that has 2-D arrays (matrices) as its elements is called 3-D array.\n",
    "\n",
    "    * These are often used to represent a 3rd order tensor."
   ]
  },
  {
   "cell_type": "code",
   "execution_count": 4,
   "id": "e4ca866b-009f-412a-a2b5-1384aca2f3ea",
   "metadata": {},
   "outputs": [
    {
     "name": "stdout",
     "output_type": "stream",
     "text": [
      "[1 2 3 4 5]\n",
      "<class 'numpy.ndarray'>\n"
     ]
    }
   ],
   "source": [
    "arr = np.array([1, 2, 3, 4, 5])\n",
    "\n",
    "print(arr)\n",
    "\n",
    "print(type(arr))\n"
   ]
  },
  {
   "cell_type": "code",
   "execution_count": 5,
   "id": "bd7fe49b",
   "metadata": {},
   "outputs": [
    {
     "name": "stdout",
     "output_type": "stream",
     "text": [
      "42\n",
      "[1 2 3 4 5]\n",
      "[[1 2 3]\n",
      " [4 5 6]]\n",
      "[[[1 2 3]\n",
      "  [4 5 6]]\n",
      "\n",
      " [[1 2 3]\n",
      "  [4 5 6]]]\n"
     ]
    }
   ],
   "source": [
    "# 0- D arrays  Create a 0-D array with value 42\n",
    "arr_0d = np.array(42)\n",
    "print(arr_0d)\n",
    "\n",
    "# 1 - D arrays Create a 1-D array containing the values 1,2,3,4,5\n",
    "arr_1d = np.array([1, 2, 3, 4, 5])\n",
    "print(arr_1d)\n",
    "\n",
    "# 2- D arrays Create a 2-D array containing two arrays with the values 1,2,3 and 4,5,6\n",
    "arr_2d = np.array([[1, 2, 3], [4, 5, 6]])\n",
    "print(arr_2d)\n",
    "\n",
    "# 3- D arrays Create a 3-D array with two 2-D arrays, both containing two arrays with the values 1,2,3 and 4,5,6\n",
    "arr_3d = np.array([[[1, 2, 3], [4, 5, 6]], [[1, 2, 3], [4, 5, 6]]])\n",
    "print(arr_3d)\n",
    "\n"
   ]
  },
  {
   "cell_type": "code",
   "execution_count": 2,
   "id": "0f0abbfd",
   "metadata": {},
   "outputs": [
    {
     "name": "stdout",
     "output_type": "stream",
     "text": [
      "0\n",
      "1\n",
      "2\n",
      "3\n"
     ]
    }
   ],
   "source": [
    "# check dimensions the arrays\n",
    "a = np.array(42)\n",
    "b = np.array([1, 2, 3, 4, 5])\n",
    "c = np.array([[1, 2, 3], [4, 5, 6]])\n",
    "d = np.array([[[1, 2, 3], [4, 5, 6]], [[1, 2, 3], [4, 5, 6]]])\n",
    "\n",
    "print(a.ndim)\n",
    "print(b.ndim)\n",
    "print(c.ndim)\n",
    "print(d.ndim)"
   ]
  },
  {
   "cell_type": "markdown",
   "id": "998204b0",
   "metadata": {},
   "source": [
    "* Array Indexing"
   ]
  },
  {
   "cell_type": "code",
   "execution_count": 3,
   "id": "c1cf4b28",
   "metadata": {},
   "outputs": [
    {
     "name": "stdout",
     "output_type": "stream",
     "text": [
      "1\n"
     ]
    }
   ],
   "source": [
    "arr = np.array([1, 2, 3, 4])\n",
    "print(arr[0])"
   ]
  },
  {
   "cell_type": "code",
   "execution_count": 10,
   "id": "24480d78",
   "metadata": {},
   "outputs": [
    {
     "name": "stdout",
     "output_type": "stream",
     "text": [
      "[0 1 2 3 4 5 6 7 8 9]\n",
      "this is x[0] eliment:  0\n",
      "this is x[1] eliment:  1\n",
      "this is x[2] eliment:  2\n",
      "this is x[3] eliment:  3\n",
      "this is x[4] eliment:  4\n",
      "this is x[5] eliment:  5\n",
      "this is x[6] eliment:  6\n",
      "this is x[7] eliment:  7\n",
      "this is x[8] eliment:  8\n",
      "this is x[9] eliment:  9\n",
      "Acceing array from the end of array\n",
      "this is x[- 0] eliment:  0\n",
      "this is x[- 1] eliment:  9\n",
      "this is x[- 2] eliment:  8\n",
      "this is x[- 3] eliment:  7\n",
      "this is x[- 4] eliment:  6\n",
      "this is x[- 5] eliment:  5\n",
      "this is x[- 6] eliment:  4\n",
      "this is x[- 7] eliment:  3\n",
      "this is x[- 8] eliment:  2\n",
      "this is x[- 9] eliment:  1\n",
      "[0 1 2 3 4 5 6 7 8 9]\n",
      "[ 0  1  2  3 34  5  6  7  8  9]\n"
     ]
    }
   ],
   "source": [
    "x = np.arange(10)\n",
    "print(x)\n",
    "\n",
    "for i in x:\n",
    "    print(f'this is x[{i}] eliment: ',i)\n",
    "\n",
    "print ( 'Acceing array from the end of array')\n",
    "\n",
    "for i in x:\n",
    "    print(f'this is x[- {i}] eliment: ',x[-i])\n",
    "\n",
    "# Updating Array \n",
    "print(x)\n",
    "x[4]= 34\n",
    "print(x)"
   ]
  },
  {
   "cell_type": "code",
   "execution_count": 21,
   "id": "6597d43f",
   "metadata": {},
   "outputs": [
    {
     "name": "stdout",
     "output_type": "stream",
     "text": [
      "(2, 5)\n",
      "New Shape:  (2, 5)\n",
      "[[ 0  1  2  3 34]\n",
      " [ 5  6  7  8  9]]\n",
      "seccond row, 4th column value: 8\n",
      "2nd element on 1st row:  2\n"
     ]
    }
   ],
   "source": [
    "print (x.shape)\n",
    "# changing the shape of array \n",
    "x.shape= (2,5) #changing rows and columns  to 2 and 5 respectively\n",
    "print (\"New Shape: \", x.shape) # now x is 2-dimensional with 2 rows and 5 columns\n",
    "print(x)\n",
    "\n",
    "# Accessing  elements in an array\n",
    "print('seccond row, 4th column value:',x[1,3]) # answer should be 8\n",
    "x[0][2] # accessing element at first row , third column which 2 , another way to accessing the array\n",
    "\n",
    "arr = np.array([[1,2,3,4,5], [6,7,8,9,10]])\n",
    "\n",
    "print('2nd element on 1st row: ', arr[0, 1])"
   ]
  },
  {
   "cell_type": "code",
   "execution_count": 22,
   "id": "df8a88d7",
   "metadata": {},
   "outputs": [
    {
     "name": "stdout",
     "output_type": "stream",
     "text": [
      "6\n"
     ]
    }
   ],
   "source": [
    "# Access the third element of the second array of the first array:\n",
    "arr = np.array([[[1, 2, 3], [4, 5, 6]], [[7, 8, 9], [10, 11, 12]]])\n",
    "\n",
    "print(arr[0, 1, 2])"
   ]
  },
  {
   "cell_type": "markdown",
   "id": "9a189038",
   "metadata": {},
   "source": [
    "**Example Explained**\n",
    "\n",
    "arr[0, 1, 2] prints the value 6.\n",
    "\n",
    "And this is why:\n",
    "\n",
    "The first number represents the first dimension, which contains two arrays:\n",
    "[[1, 2, 3], [4, 5, 6]] and [[7, 8, 9], [10, 11, 12]]\n",
    "\n",
    "Since we selected 0, we are left with the first array:\n",
    "[[1, 2, 3], [4, 5, 6]]\n",
    "\n",
    "The second number represents the second dimension, which also contains two arrays:\n",
    "[1, 2, 3]\n",
    "and:\n",
    "[4, 5, 6]\n",
    "Since we selected 1, we are left with the second array:\n",
    "[4, 5, 6]\n",
    "\n",
    "The third number represents the third dimension, which contains three values:\n",
    "4\n",
    "5\n",
    "6\n",
    "Since we selected 2, we end up with the third value:\n",
    "6"
   ]
  },
  {
   "cell_type": "code",
   "execution_count": 23,
   "id": "658d5ba4",
   "metadata": {},
   "outputs": [
    {
     "name": "stdout",
     "output_type": "stream",
     "text": [
      "Last element from 2nd dim:  10\n"
     ]
    }
   ],
   "source": [
    "arr = np.array([[1,2,3,4,5], [6,7,8,9,10]])\n",
    "\n",
    "print('Last element from 2nd dim: ', arr[1, -1])"
   ]
  },
  {
   "cell_type": "markdown",
   "id": "5c63cfbd",
   "metadata": {},
   "source": [
    "**Slicing Arrays**\n",
    "<hr>\n",
    "Slicing in python means taking elements from one given index to another given index.\n",
    "\n",
    "We pass slice instead of index like this: [start:end].\n",
    "\n",
    "We can also define the step, like this: [start:end:step].\n",
    "\n",
    "If we don't pass start its considered 0\n",
    "\n",
    "If we don't pass end its considered length of array in that dimension\n",
    "\n",
    "If we don't pass step its considered 1"
   ]
  },
  {
   "cell_type": "code",
   "execution_count": 28,
   "id": "361bdcc0",
   "metadata": {},
   "outputs": [
    {
     "name": "stdout",
     "output_type": "stream",
     "text": [
      "[2 3 4 5]\n",
      "[1 2 3 4 5]\n",
      "[2 4]\n",
      "[5 6 7]\n",
      "[1 2 3 4]\n",
      "Negetive Slicing\n",
      "[5 6]\n"
     ]
    }
   ],
   "source": [
    "\n",
    "arr = np.array([1, 2, 3, 4, 5, 6, 7])\n",
    "print(arr[1:5])\n",
    "print(arr[0:5])\n",
    "print(arr[1:5:2])\n",
    "print(arr[4:])\n",
    "print(arr[:4])  # Slice elements from the beginning to index 4 (not included)\n",
    "\n",
    "print('Negetive Slicing')\n",
    "print(arr[-3:-1])\n",
    "\n",
    "\n"
   ]
  },
  {
   "cell_type": "markdown",
   "id": "78e941e1",
   "metadata": {},
   "source": [
    "* Slicing 2-D Arrays"
   ]
  },
  {
   "cell_type": "code",
   "execution_count": 33,
   "id": "f33abfff",
   "metadata": {},
   "outputs": [
    {
     "name": "stdout",
     "output_type": "stream",
     "text": [
      "[7 8 9]\n",
      "[3 8]\n",
      "[[2 3 4]\n",
      " [7 8 9]]\n"
     ]
    }
   ],
   "source": [
    "arr = np.array([[1, 2, 3, 4, 5], [6, 7, 8, 9, 10]])\n",
    "print(arr[1, 1:4])\n",
    "\n",
    "print(arr[0:2, 2]) #  0:2 selecting rows, 2 selecting column\n",
    "\n",
    "print(arr[0:2, 1:4])"
   ]
  },
  {
   "cell_type": "markdown",
   "id": "945853bc",
   "metadata": {},
   "source": [
    "**Explain seccond method**\n",
    "\n",
    "[0:2, 2]: This part is the slicing notation used to specify which elements of the array we want to access. It consists of two slices separated by a comma:\n",
    "\n",
    "0:2: This slice specifies the range of rows we want to select. It starts at index 0 and ends at index 2 (exclusive), meaning it includes rows with indices 0 and 1 (but not 2).\n",
    "\n",
    ",: The comma separates the row slice from the column slice.\n",
    "\n",
    "2: This slice specifies the column we want to select. It selects the column with index 2.\n",
    "\n",
    "Therefore, arr[0:2, 2] selects elements from rows 0 to 1 and column 2 of the array arr."
   ]
  },
  {
   "attachments": {
    "image.png": {
     "image/png": "[encoded data removed]"
    }
   },
   "cell_type": "markdown",
   "id": "9dd02412",
   "metadata": {},
   "source": [
    "*Slicing 3-D Array*\n",
    "\n",
    "    *Let's say you have a 3D NumPy array called arr with shape (n_rows, n_cols, n_depth). \n",
    "    * slice_result = arr[start1:end1, start2:end2, start3:end3]\n",
    "    * Here, start1:end1, start2:end2, and start3:end3 specify the ranges along each dimension that you want to slice.\n",
    "\n",
    "        * start1:end1 represents the range of rows you want to select.\n",
    "        * start2:end2 represents the range of columns you want to select.\n",
    "        * start3:end3 represents the range of depths (or the third dimension) you want to select.\n",
    "\n",
    "![image.png](attachment:image.png)\n",
    "        "
   ]
  },
  {
   "cell_type": "code",
   "execution_count": 40,
   "id": "9963e1b4",
   "metadata": {},
   "outputs": [
    {
     "name": "stdout",
     "output_type": "stream",
     "text": [
      "(2, 2, 3)\n",
      "[[[5]]]\n",
      "[5]\n",
      "5\n"
     ]
    }
   ],
   "source": [
    "arr = np.array([[[1, 2, 3], [4, 5, 6]], [[7, 8, 9], [10, 11, 12]]])\n",
    "print(arr.shape)\n",
    "\n",
    "# get number 5 or location\n",
    "print(arr[:1,1:,1:2])\n",
    "print(arr[:1,1,1])\n",
    "print(arr[0][1][1])"
   ]
  },
  {
   "cell_type": "markdown",
   "id": "8224edf9",
   "metadata": {},
   "source": [
    "<hr>\n",
    "*Data Types in Numpy*\n",
    "<hr>\n",
    "\n",
    "\n",
    "* NumPy has some extra data types, and refer to data types with one character, like i for integers, u for unsigned integers etc.\n",
    "\n",
    "* Below is a list of all data types in NumPy and the characters used to represent them.\n",
    "\n",
    "    * i - integer\n",
    "    * b - boolean\n",
    "    * u - unsigned integer\n",
    "    * f - float\n",
    "    * c - complex float\n",
    "    * m - timedelta\n",
    "    * M - datetime\n",
    "    * O - object\n",
    "    * S - string\n",
    "    * U - unicode string\n",
    "    * V - fixed chunk of memory for other type ( void )"
   ]
  },
  {
   "cell_type": "code",
   "execution_count": 41,
   "id": "fab89569",
   "metadata": {},
   "outputs": [
    {
     "name": "stdout",
     "output_type": "stream",
     "text": [
      "[b'1' b'2' b'3' b'4']\n",
      "|S1\n",
      "[1 2 3 4]\n",
      "int32\n",
      "[1 2 3]\n",
      "int32\n",
      "[1 2 3]\n",
      "int32\n"
     ]
    }
   ],
   "source": [
    "arr = np.array([1, 2, 3, 4], dtype='S')\n",
    "print(arr)\n",
    "print(arr.dtype)\n",
    "\n",
    "\n",
    "arr = np.array([1, 2, 3, 4], dtype='i4')\n",
    "print(arr)\n",
    "print(arr.dtype)\n",
    "\n",
    "# Change data type from float to integer by using 'i' as parameter value:\n",
    "arr = np.array([1.1, 2.1, 3.1])\n",
    "newarr = arr.astype('i')\n",
    "print(newarr)\n",
    "print(newarr.dtype)\n",
    "\n",
    "\n",
    "arr = np.array([1.1, 2.1, 3.1])\n",
    "newarr = arr.astype(int)\n",
    "print(newarr)\n",
    "print(newarr.dtype)"
   ]
  },
  {
   "cell_type": "markdown",
   "id": "6b4ac206",
   "metadata": {},
   "source": [
    "*Copy vs View*\n",
    "<hr>\n",
    "\n",
    "* The view SHOULD be affected by the changes made to the original array\n",
    "* The copy SHOULD not be affected by the changes made to the original array"
   ]
  },
  {
   "cell_type": "code",
   "execution_count": 42,
   "id": "b018fc06",
   "metadata": {},
   "outputs": [
    {
     "name": "stdout",
     "output_type": "stream",
     "text": [
      "[42  2  3  4  5]\n",
      "[1 2 3 4 5]\n",
      "[42  2  3  4  5]\n",
      "[42  2  0  4  5]\n",
      "[1 2 3 4 5]\n",
      "[42  2  0  4  5]\n"
     ]
    }
   ],
   "source": [
    "arr = np.array([1, 2, 3, 4, 5])\n",
    "x = arr.copy()\n",
    "y = arr.view()\n",
    "arr[0] = 42\n",
    "\n",
    "print(arr)\n",
    "print(x)\n",
    "print(y)\n",
    "y[2]=0\n",
    "\n",
    "print(arr)\n",
    "print(x)\n",
    "print(y)"
   ]
  },
  {
   "cell_type": "markdown",
   "id": "8aae895a",
   "metadata": {},
   "source": [
    "*Reshape the Array*"
   ]
  },
  {
   "cell_type": "code",
   "execution_count": 45,
   "id": "cd086f05",
   "metadata": {},
   "outputs": [
    {
     "name": "stdout",
     "output_type": "stream",
     "text": [
      "[ 1  2  3  4  5  6  7  8  9 10 11 12]\n",
      "[[ 1  2  3]\n",
      " [ 4  5  6]\n",
      " [ 7  8  9]\n",
      " [10 11 12]]\n",
      "[[[ 1  2]\n",
      "  [ 3  4]\n",
      "  [ 5  6]]\n",
      "\n",
      " [[ 7  8]\n",
      "  [ 9 10]\n",
      "  [11 12]]]\n"
     ]
    }
   ],
   "source": [
    "arr = np.array([1, 2, 3, 4, 5, 6, 7, 8, 9, 10, 11, 12])\n",
    "print(arr)\n",
    "# 1-D to 2-D   array conversion\n",
    "newarr = arr.reshape(4, 3)\n",
    "print(newarr)\n",
    "# 1-D to 3-D   array conversion\n",
    "newarr = arr.reshape(2,3,2)\n",
    "\n",
    "print(newarr)\n"
   ]
  },
  {
   "cell_type": "markdown",
   "id": "787e42c6",
   "metadata": {},
   "source": [
    "*Unknown Dimension*\n",
    "\n",
    "You are allowed to have one \"unknown\" dimension.\n",
    "\n",
    "Meaning that you do not have to specify an exact number for one of the dimensions in the reshape method.\n",
    "\n",
    "Pass -1 as the value, and NumPy will calculate this number for you."
   ]
  },
  {
   "cell_type": "code",
   "execution_count": 46,
   "id": "7d4b13d4",
   "metadata": {},
   "outputs": [
    {
     "name": "stdout",
     "output_type": "stream",
     "text": [
      "[[[1 2]\n",
      "  [3 4]]\n",
      "\n",
      " [[5 6]\n",
      "  [7 8]]]\n"
     ]
    }
   ],
   "source": [
    "arr = np.array([1, 2, 3, 4, 5, 6, 7, 8])\n",
    "\n",
    "newarr = arr.reshape(2, 2, -1)\n",
    "\n",
    "print(newarr)"
   ]
  },
  {
   "cell_type": "markdown",
   "id": "7800b491",
   "metadata": {},
   "source": [
    "### Array Joining\n",
    "\n",
    "* Mainly involes two functions (concatanete(), stack())\n",
    "* We pass a sequence of arrays that we want to join to the concatenate() function, along with the axis. If axis is not explicitly passed, it is taken as 0.\n",
    "\n",
    "* Joining Arrays Using Stack Functions\n",
    "\n",
    "Stacking is same as concatenation, the only difference is that stacking is done along a new axis.\n",
    "\n",
    "We can concatenate two 1-D arrays along the second axis which would result in putting them one over the other, ie. stacking.\n",
    "\n",
    "We pass a sequence of arrays that we want to join to the stack() method along with the axis. If axis is not explicitly passed it is taken as 0."
   ]
  },
  {
   "cell_type": "code",
   "execution_count": 48,
   "id": "da56383c",
   "metadata": {},
   "outputs": [
    {
     "name": "stdout",
     "output_type": "stream",
     "text": [
      "[1 2 3 4 5 6]\n"
     ]
    }
   ],
   "source": [
    "arr1 = np.array([1, 2, 3])\n",
    "\n",
    "arr2 = np.array([4, 5, 6])\n",
    "\n",
    "arr = np.concatenate((arr1, arr2))\n",
    "\n",
    "print(arr)"
   ]
  },
  {
   "cell_type": "code",
   "execution_count": 49,
   "id": "b5573c8a",
   "metadata": {},
   "outputs": [
    {
     "name": "stdout",
     "output_type": "stream",
     "text": [
      "[[1 2 5 6]\n",
      " [3 4 7 8]]\n"
     ]
    }
   ],
   "source": [
    "#Join two 2-D arrays along rows (axis=1):\n",
    "arr1 = np.array([[1, 2], [3, 4]])\n",
    "\n",
    "arr2 = np.array([[5, 6], [7, 8]])\n",
    "\n",
    "arr = np.concatenate((arr1, arr2), axis=1)\n",
    "\n",
    "print(arr)"
   ]
  },
  {
   "cell_type": "code",
   "execution_count": 50,
   "id": "68c1a31f",
   "metadata": {},
   "outputs": [
    {
     "name": "stdout",
     "output_type": "stream",
     "text": [
      "[[1 4]\n",
      " [2 5]\n",
      " [3 6]]\n"
     ]
    }
   ],
   "source": [
    "arr1 = np.array([1, 2, 3])\n",
    "\n",
    "arr2 = np.array([4, 5, 6])\n",
    "\n",
    "arr = np.stack((arr1, arr2), axis=1)\n",
    "\n",
    "print(arr)"
   ]
  },
  {
   "cell_type": "code",
   "execution_count": 52,
   "id": "57c904a8",
   "metadata": {},
   "outputs": [
    {
     "name": "stdout",
     "output_type": "stream",
     "text": [
      "[1 2 3 4 5 6]\n",
      "[[1 2 3]\n",
      " [4 5 6]]\n"
     ]
    }
   ],
   "source": [
    "#Stacking Along Rows\n",
    "#NumPy provides a helper function: hstack() to stack along rows.\n",
    "\n",
    "arr1 = np.array([1, 2, 3])\n",
    "\n",
    "arr2 = np.array([4, 5, 6])\n",
    "\n",
    "arr = np.hstack((arr1, arr2))\n",
    "\n",
    "print(arr)\n",
    "\n",
    "#Stacking Along Columns\n",
    "#NumPy provides a helper function: vstack()  to stack along columns.\n",
    "arr = np.vstack((arr1, arr2))\n",
    "\n",
    "print(arr)\n"
   ]
  },
  {
   "cell_type": "code",
   "execution_count": null,
   "id": "dd5965ce",
   "metadata": {},
   "outputs": [],
   "source": []
  },
  {
   "cell_type": "code",
   "execution_count": null,
   "id": "e39a321d",
   "metadata": {},
   "outputs": [],
   "source": []
  },
  {
   "cell_type": "code",
   "execution_count": null,
   "id": "40535675",
   "metadata": {},
   "outputs": [],
   "source": []
  }
 ],
 "metadata": {
  "kernelspec": {
   "display_name": "Python 3 (ipykernel)",
   "language": "python",
   "name": "python3"
  },
  "language_info": {
   "codemirror_mode": {
    "name": "ipython",
    "version": 3
   },
   "file_extension": ".py",
   "mimetype": "text/x-python",
   "name": "python",
   "nbconvert_exporter": "python",
   "pygments_lexer": "ipython3",
   "version": "3.12.0"
  }
 },
 "nbformat": 4,
 "nbformat_minor": 5
}
