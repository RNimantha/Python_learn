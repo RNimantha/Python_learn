{
 "cells": [
  {
   "cell_type": "code",
   "execution_count": 2,
   "id": "8f3bce65-5835-4462-a018-c64744a8b55c",
   "metadata": {},
   "outputs": [
    {
     "name": "stdout",
     "output_type": "stream",
     "text": [
      "Requirement already satisfied: numpy in c:\\users\\firehouse technology\\appdata\\local\\programs\\python\\python312\\lib\\site-packages (1.26.3)\n",
      "Note: you may need to restart the kernel to use updated packages.\n"
     ]
    }
   ],
   "source": [
    "pip install numpy"
   ]
  },
  {
   "cell_type": "markdown",
   "id": "59ae1802",
   "metadata": {},
   "source": [
    "## Working with Numpy\n",
    "\n",
    "### Why Use NumPy?\n",
    "* In Python we have lists that serve the purpose of arrays, but they are slow to process.\n",
    "\n",
    "* NumPy aims to provide an array object that is up to 50x faster than traditional Python lists.\n",
    "\n",
    "* The array object in NumPy is called ndarray, it provides a lot of supporting functions that make working with ndarray very easy.\n",
    "\n",
    "* Arrays are very frequently used in data science, where speed and resources are very important\n",
    "\n",
    "### Why is NumPy Faster Than Lists?\n",
    "* NumPy arrays are stored at one continuous place in memory unlike lists, so processes can access and manipulate them very efficiently.\n",
    "\n",
    "* This behavior is called locality of reference in computer science.\n",
    "\n",
    "* This is the main reason why NumPy is faster than lists. Also it is optimized to work with latest CPU architectures."
   ]
  },
  {
   "cell_type": "code",
   "execution_count": 3,
   "id": "4269d9f9-59be-4581-9f59-dac47720e4fd",
   "metadata": {},
   "outputs": [
    {
     "name": "stdout",
     "output_type": "stream",
     "text": [
      "1.26.3\n"
     ]
    }
   ],
   "source": [
    "import numpy as np\n",
    "\n",
    "# check version\n",
    "print(np.__version__)"
   ]
  },
  {
   "cell_type": "markdown",
   "id": "2252574c",
   "metadata": {},
   "source": [
    "#### Arrays\n",
    "\n",
    "1. 0-D Arrays\n",
    "    * 0-D arrays, or Scalars, are the elements in an array. Each value in an array is a 0-D array.\n",
    "2. 1-D Arrays\n",
    "   * An array that has 0-D arrays as its elements is called uni-dimensional or 1-D array.\n",
    "\n",
    "    * These are the most common and basic arrays.\n",
    "3. 2-D Arrays\n",
    "    * An array that has 1-D arrays as its elements is called a 2-D array.\n",
    "\n",
    "    * These are often used to represent matrix or 2nd order tensors.\n",
    "4. 3-D arrays\n",
    "    * An array that has 2-D arrays (matrices) as its elements is called 3-D array.\n",
    "\n",
    "    * These are often used to represent a 3rd order tensor."
   ]
  },
  {
   "cell_type": "code",
   "execution_count": 4,
   "id": "e4ca866b-009f-412a-a2b5-1384aca2f3ea",
   "metadata": {},
   "outputs": [
    {
     "name": "stdout",
     "output_type": "stream",
     "text": [
      "[1 2 3 4 5]\n",
      "<class 'numpy.ndarray'>\n"
     ]
    }
   ],
   "source": [
    "arr = np.array([1, 2, 3, 4, 5])\n",
    "\n",
    "print(arr)\n",
    "\n",
    "print(type(arr))\n"
   ]
  },
  {
   "cell_type": "code",
   "execution_count": 5,
   "id": "bd7fe49b",
   "metadata": {},
   "outputs": [
    {
     "name": "stdout",
     "output_type": "stream",
     "text": [
      "42\n",
      "[1 2 3 4 5]\n",
      "[[1 2 3]\n",
      " [4 5 6]]\n",
      "[[[1 2 3]\n",
      "  [4 5 6]]\n",
      "\n",
      " [[1 2 3]\n",
      "  [4 5 6]]]\n"
     ]
    }
   ],
   "source": [
    "# 0- D arrays  Create a 0-D array with value 42\n",
    "arr_0d = np.array(42)\n",
    "print(arr_0d)\n",
    "\n",
    "# 1 - D arrays Create a 1-D array containing the values 1,2,3,4,5\n",
    "arr_1d = np.array([1, 2, 3, 4, 5])\n",
    "print(arr_1d)\n",
    "\n",
    "# 2- D arrays Create a 2-D array containing two arrays with the values 1,2,3 and 4,5,6\n",
    "arr_2d = np.array([[1, 2, 3], [4, 5, 6]])\n",
    "print(arr_2d)\n",
    "\n",
    "# 3- D arrays Create a 3-D array with two 2-D arrays, both containing two arrays with the values 1,2,3 and 4,5,6\n",
    "arr_3d = np.array([[[1, 2, 3], [4, 5, 6]], [[1, 2, 3], [4, 5, 6]]])\n",
    "print(arr_3d)\n",
    "\n"
   ]
  }
 ],
 "metadata": {
  "kernelspec": {
   "display_name": "Python 3 (ipykernel)",
   "language": "python",
   "name": "python3"
  },
  "language_info": {
   "codemirror_mode": {
    "name": "ipython",
    "version": 3
   },
   "file_extension": ".py",
   "mimetype": "text/x-python",
   "name": "python",
   "nbconvert_exporter": "python",
   "pygments_lexer": "ipython3",
   "version": "3.12.0"
  }
 },
 "nbformat": 4,
 "nbformat_minor": 5
}
