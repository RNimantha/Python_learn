{
 "cells": [
  {
   "cell_type": "code",
   "execution_count": 1,
   "id": "1008098d-d4ee-4bf9-922d-b0bf69f73bfc",
   "metadata": {},
   "outputs": [],
   "source": [
    "# import libraries\n",
    "import torch\n"
   ]
  },
  {
   "cell_type": "markdown",
   "id": "5286770a",
   "metadata": {},
   "source": [
    "### ReShape tensor\n",
    "\n"
   ]
  },
  {
   "cell_type": "code",
   "execution_count": 9,
   "id": "1fe81d2c",
   "metadata": {},
   "outputs": [
    {
     "name": "stdout",
     "output_type": "stream",
     "text": [
      "torch.Size([5, 4])\n",
      "tensor([[0.6595, 0.2200, 0.9526, 0.9364],\n",
      "        [0.8508, 0.7458, 0.3731, 0.3600],\n",
      "        [0.9277, 0.8390, 0.3240, 0.5616],\n",
      "        [0.6227, 0.7762, 0.3358, 0.6163],\n",
      "        [0.8404, 0.4002, 0.1923, 0.7372]])\n"
     ]
    }
   ],
   "source": [
    "y = torch.rand([5, 4])\n",
    "print(y.shape)\n",
    "print(y)"
   ]
  },
  {
   "cell_type": "code",
   "execution_count": 10,
   "id": "862bd874",
   "metadata": {},
   "outputs": [
    {
     "name": "stdout",
     "output_type": "stream",
     "text": [
      "tensor([[0.6595, 0.2200, 0.9526, 0.9364, 0.8508, 0.7458, 0.3731, 0.3600, 0.9277,\n",
      "         0.8390],\n",
      "        [0.3240, 0.5616, 0.6227, 0.7762, 0.3358, 0.6163, 0.8404, 0.4002, 0.1923,\n",
      "         0.7372]])\n",
      "-------------------------------------------\n",
      "tensor([[0.6595, 0.2200, 0.9526, 0.9364],\n",
      "        [0.8508, 0.7458, 0.3731, 0.3600],\n",
      "        [0.9277, 0.8390, 0.3240, 0.5616],\n",
      "        [0.6227, 0.7762, 0.3358, 0.6163],\n",
      "        [0.8404, 0.4002, 0.1923, 0.7372]])\n",
      "-------------------------------------------\n",
      "tensor([[0.6595, 0.2200, 0.9526, 0.9364, 0.8508, 0.7458, 0.3731, 0.3600, 0.9277,\n",
      "         0.8390],\n",
      "        [0.3240, 0.5616, 0.6227, 0.7762, 0.3358, 0.6163, 0.8404, 0.4002, 0.1923,\n",
      "         0.7372]])\n"
     ]
    }
   ],
   "source": [
    "# to reshape we use view() function\n",
    "print(y.view([2,10]))\n",
    "print(\"-------------------------------------------\")\n",
    "# then we print(y) still observed old tensor avoid that we need to assighn it\n",
    "print(y)\n",
    "print(\"-------------------------------------------\")\n",
    "\n",
    "y = y.view([2,10])\n",
    "print(y)\n"
   ]
  },
  {
   "cell_type": "markdown",
   "id": "834b4daf",
   "metadata": {},
   "source": [
    "### Working with daTA"
   ]
  },
  {
   "cell_type": "code",
   "execution_count": 14,
   "id": "1787524b",
   "metadata": {},
   "outputs": [],
   "source": [
    "import torchvision as tv\n",
    "from torchvision import transforms, datasets"
   ]
  },
  {
   "cell_type": "code",
   "execution_count": 23,
   "id": "6ec1663a",
   "metadata": {},
   "outputs": [],
   "source": [
    "train = datasets.MNIST(\"\", train=True, download=True,\n",
    "                       transform= transforms.Compose([transforms.ToTensor()]))\n",
    "\n",
    "\n",
    "test = datasets.MNIST(\"\", train=False, download=True,\n",
    "                       transform= transforms.Compose([transforms.ToTensor()]))"
   ]
  },
  {
   "cell_type": "markdown",
   "id": "181e28e7",
   "metadata": {},
   "source": [
    "* Batch_size which how much of data we pass trough the model at a time \n",
    "\n",
    "* shuffle which is doing mixed all data to be generalized"
   ]
  },
  {
   "cell_type": "code",
   "execution_count": 24,
   "id": "565e60bf",
   "metadata": {},
   "outputs": [],
   "source": [
    "trainset = torch.utils.data.DataLoader(train , batch_size=10, shuffle=True)\n",
    "testset = torch.utils.data.DataLoader(test , batch_size=10, shuffle=True)"
   ]
  },
  {
   "cell_type": "code",
   "execution_count": 25,
   "id": "55d6d38d",
   "metadata": {},
   "outputs": [
    {
     "name": "stdout",
     "output_type": "stream",
     "text": [
      "<torch.utils.data.dataloader.DataLoader object at 0x175024500>\n"
     ]
    }
   ],
   "source": [
    "print(trainset)"
   ]
  },
  {
   "cell_type": "code",
   "execution_count": 27,
   "id": "7dfefca8",
   "metadata": {},
   "outputs": [
    {
     "name": "stdout",
     "output_type": "stream",
     "text": [
      "[tensor([[[[0., 0., 0.,  ..., 0., 0., 0.],\n",
      "          [0., 0., 0.,  ..., 0., 0., 0.],\n",
      "          [0., 0., 0.,  ..., 0., 0., 0.],\n",
      "          ...,\n",
      "          [0., 0., 0.,  ..., 0., 0., 0.],\n",
      "          [0., 0., 0.,  ..., 0., 0., 0.],\n",
      "          [0., 0., 0.,  ..., 0., 0., 0.]]],\n",
      "\n",
      "\n",
      "        [[[0., 0., 0.,  ..., 0., 0., 0.],\n",
      "          [0., 0., 0.,  ..., 0., 0., 0.],\n",
      "          [0., 0., 0.,  ..., 0., 0., 0.],\n",
      "          ...,\n",
      "          [0., 0., 0.,  ..., 0., 0., 0.],\n",
      "          [0., 0., 0.,  ..., 0., 0., 0.],\n",
      "          [0., 0., 0.,  ..., 0., 0., 0.]]],\n",
      "\n",
      "\n",
      "        [[[0., 0., 0.,  ..., 0., 0., 0.],\n",
      "          [0., 0., 0.,  ..., 0., 0., 0.],\n",
      "          [0., 0., 0.,  ..., 0., 0., 0.],\n",
      "          ...,\n",
      "          [0., 0., 0.,  ..., 0., 0., 0.],\n",
      "          [0., 0., 0.,  ..., 0., 0., 0.],\n",
      "          [0., 0., 0.,  ..., 0., 0., 0.]]],\n",
      "\n",
      "\n",
      "        ...,\n",
      "\n",
      "\n",
      "        [[[0., 0., 0.,  ..., 0., 0., 0.],\n",
      "          [0., 0., 0.,  ..., 0., 0., 0.],\n",
      "          [0., 0., 0.,  ..., 0., 0., 0.],\n",
      "          ...,\n",
      "          [0., 0., 0.,  ..., 0., 0., 0.],\n",
      "          [0., 0., 0.,  ..., 0., 0., 0.],\n",
      "          [0., 0., 0.,  ..., 0., 0., 0.]]],\n",
      "\n",
      "\n",
      "        [[[0., 0., 0.,  ..., 0., 0., 0.],\n",
      "          [0., 0., 0.,  ..., 0., 0., 0.],\n",
      "          [0., 0., 0.,  ..., 0., 0., 0.],\n",
      "          ...,\n",
      "          [0., 0., 0.,  ..., 0., 0., 0.],\n",
      "          [0., 0., 0.,  ..., 0., 0., 0.],\n",
      "          [0., 0., 0.,  ..., 0., 0., 0.]]],\n",
      "\n",
      "\n",
      "        [[[0., 0., 0.,  ..., 0., 0., 0.],\n",
      "          [0., 0., 0.,  ..., 0., 0., 0.],\n",
      "          [0., 0., 0.,  ..., 0., 0., 0.],\n",
      "          ...,\n",
      "          [0., 0., 0.,  ..., 0., 0., 0.],\n",
      "          [0., 0., 0.,  ..., 0., 0., 0.],\n",
      "          [0., 0., 0.,  ..., 0., 0., 0.]]]]), tensor([3, 6, 6, 9, 0, 6, 4, 4, 2, 9])]\n"
     ]
    }
   ],
   "source": [
    "# itarate over data\n",
    "\n",
    "for data in trainset:\n",
    "    print(data)\n",
    "    break # we do not need to see all data here \n"
   ]
  },
  {
   "cell_type": "code",
   "execution_count": 50,
   "id": "59e50789",
   "metadata": {},
   "outputs": [
    {
     "name": "stdout",
     "output_type": "stream",
     "text": [
      "tensor(8)\n"
     ]
    }
   ],
   "source": [
    "x, y = data[0][0] , data[1][0]\n",
    "print(y)"
   ]
  },
  {
   "cell_type": "code",
   "execution_count": 51,
   "id": "ff0f9941",
   "metadata": {},
   "outputs": [
    {
     "name": "stdout",
     "output_type": "stream",
     "text": [
      "torch.Size([1, 28, 28])\n"
     ]
    }
   ],
   "source": [
    "print(x.shape)"
   ]
  },
  {
   "cell_type": "code",
   "execution_count": 52,
   "id": "c6efc2c9",
   "metadata": {},
   "outputs": [
    {
     "data": {
      "image/png": "[encoded data removed]",
      "text/plain": [
       "<Figure size 640x480 with 1 Axes>"
      ]
     },
     "metadata": {},
     "output_type": "display_data"
    }
   ],
   "source": [
    "import matplotlib.pyplot as plt\n",
    "plt.imshow(data[0][0].view(28,28))\n",
    "plt.show()"
   ]
  },
  {
   "cell_type": "markdown",
   "id": "c8214333",
   "metadata": {},
   "source": [
    "here we checking balance of the data set"
   ]
  },
  {
   "cell_type": "code",
   "execution_count": 53,
   "id": "d2cae44c",
   "metadata": {},
   "outputs": [
    {
     "name": "stdout",
     "output_type": "stream",
     "text": [
      "{0: 5923, 1: 6742, 2: 5958, 3: 6131, 4: 5842, 5: 5421, 6: 5918, 7: 6265, 8: 5851, 9: 5949}\n",
      "0: 9.871666666666666\n",
      "1: 11.236666666666666\n",
      "2: 9.93\n",
      "3: 10.218333333333334\n",
      "4: 9.736666666666666\n",
      "5: 9.035\n",
      "6: 9.863333333333333\n",
      "7: 10.441666666666666\n",
      "8: 9.751666666666667\n",
      "9: 9.915000000000001\n"
     ]
    }
   ],
   "source": [
    "total = 0\n",
    "counter_dict = {0:0,1:0,2:0,3:0,4:0,5:0,6:0,7:0,8:0,9:0}\n",
    "\n",
    "for data in trainset:\n",
    "    Xs, Ys = data\n",
    "    for y in Ys:\n",
    "        counter_dict[int(y)] += 1\n",
    "        total += 1\n",
    "print(counter_dict)\n",
    "\n",
    "\n",
    "for i in counter_dict:\n",
    "    print(f\"{i}: {counter_dict[i]/total*100}\")"
   ]
  },
  {
   "cell_type": "markdown",
   "id": "ab3e0f0b",
   "metadata": {},
   "source": [
    "### Develop NN"
   ]
  },
  {
   "cell_type": "code",
   "execution_count": null,
   "id": "8a7def73",
   "metadata": {},
   "outputs": [],
   "source": [
    "import torch.nn as nn"
   ]
  }
 ],
 "metadata": {
  "kernelspec": {
   "display_name": "Python 3 (ipykernel)",
   "language": "python",
   "name": "python3"
  },
  "language_info": {
   "codemirror_mode": {
    "name": "ipython",
    "version": 3
   },
   "file_extension": ".py",
   "mimetype": "text/x-python",
   "name": "python",
   "nbconvert_exporter": "python",
   "pygments_lexer": "ipython3",
   "version": "3.12.3"
  }
 },
 "nbformat": 4,
 "nbformat_minor": 5
}
